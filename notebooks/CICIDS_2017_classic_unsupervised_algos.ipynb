{
 "cells": [
  {
   "cell_type": "code",
   "execution_count": 1,
   "metadata": {},
   "outputs": [],
   "source": [
    "import os\n",
    "import glob\n",
    "\n",
    "import numpy as np\n",
    "import pandas as pd\n",
    "\n",
    "from sklearn.model_selection import train_test_split\n",
    "\n",
    "from matplotlib import pyplot as plt\n",
    "%matplotlib inline"
   ]
  },
  {
   "cell_type": "code",
   "execution_count": 2,
   "metadata": {},
   "outputs": [],
   "source": [
    "np.random.seed(17)"
   ]
  },
  {
   "cell_type": "markdown",
   "metadata": {},
   "source": [
    "Dataset [CICIDS 2017](https://www.kaggle.com/datasets/cicdataset/cicids2017) "
   ]
  },
  {
   "cell_type": "code",
   "execution_count": 3,
   "metadata": {},
   "outputs": [],
   "source": [
    "# DATA_PATH = \"/home/vanes/Mephi/Diploma/data/archive/MachineLearningCSV/MachineLearningCVE\"\n",
    "DATA_PATH = '/home/churilov/data/other/Mephi/CICIDS_2017/MachineLearningCSV/MachineLearningCVE'"
   ]
  },
  {
   "cell_type": "code",
   "execution_count": 4,
   "metadata": {},
   "outputs": [
    {
     "data": {
      "text/plain": [
       "['/home/churilov/data/other/Mephi/CICIDS_2017/MachineLearningCSV/MachineLearningCVE/Friday-WorkingHours-Afternoon-DDos.pcap_ISCX.csv',\n",
       " '/home/churilov/data/other/Mephi/CICIDS_2017/MachineLearningCSV/MachineLearningCVE/Friday-WorkingHours-Afternoon-PortScan.pcap_ISCX.csv',\n",
       " '/home/churilov/data/other/Mephi/CICIDS_2017/MachineLearningCSV/MachineLearningCVE/Friday-WorkingHours-Morning.pcap_ISCX.csv',\n",
       " '/home/churilov/data/other/Mephi/CICIDS_2017/MachineLearningCSV/MachineLearningCVE/Monday-WorkingHours.pcap_ISCX.csv',\n",
       " '/home/churilov/data/other/Mephi/CICIDS_2017/MachineLearningCSV/MachineLearningCVE/Thursday-WorkingHours-Afternoon-Infilteration.pcap_ISCX.csv',\n",
       " '/home/churilov/data/other/Mephi/CICIDS_2017/MachineLearningCSV/MachineLearningCVE/Thursday-WorkingHours-Morning-WebAttacks.pcap_ISCX.csv',\n",
       " '/home/churilov/data/other/Mephi/CICIDS_2017/MachineLearningCSV/MachineLearningCVE/Tuesday-WorkingHours.pcap_ISCX.csv',\n",
       " '/home/churilov/data/other/Mephi/CICIDS_2017/MachineLearningCSV/MachineLearningCVE/Wednesday-workingHours.pcap_ISCX.csv']"
      ]
     },
     "execution_count": 4,
     "metadata": {},
     "output_type": "execute_result"
    }
   ],
   "source": [
    "all_files = glob.glob(os.path.join(DATA_PATH, \"*.csv\"))\n",
    "all_files"
   ]
  },
  {
   "cell_type": "code",
   "execution_count": 5,
   "metadata": {},
   "outputs": [],
   "source": [
    "df_from_each_file = (pd.read_csv(f) for f in all_files)\n",
    "df   = pd.concat(df_from_each_file, ignore_index=True)"
   ]
  },
  {
   "cell_type": "code",
   "execution_count": 6,
   "metadata": {},
   "outputs": [
    {
     "data": {
      "text/plain": [
       "BENIGN                        0.803004\n",
       "DoS Hulk                      0.081630\n",
       "PortScan                      0.056144\n",
       "DDoS                          0.045227\n",
       "DoS GoldenEye                 0.003636\n",
       "FTP-Patator                   0.002804\n",
       "SSH-Patator                   0.002083\n",
       "DoS slowloris                 0.002048\n",
       "DoS Slowhttptest              0.001943\n",
       "Bot                           0.000695\n",
       "Web Attack � Brute Force      0.000532\n",
       "Web Attack � XSS              0.000230\n",
       "Infiltration                  0.000013\n",
       "Web Attack � Sql Injection    0.000007\n",
       "Heartbleed                    0.000004\n",
       "Name:  Label, dtype: float64"
      ]
     },
     "execution_count": 6,
     "metadata": {},
     "output_type": "execute_result"
    }
   ],
   "source": [
    "df[' Label'].value_counts(normalize=True)"
   ]
  },
  {
   "cell_type": "code",
   "execution_count": 7,
   "metadata": {},
   "outputs": [
    {
     "data": {
      "text/plain": [
       "Index([' Destination Port', ' Flow Duration', ' Total Fwd Packets',\n",
       "       ' Total Backward Packets', 'Total Length of Fwd Packets',\n",
       "       ' Total Length of Bwd Packets', ' Fwd Packet Length Max',\n",
       "       ' Fwd Packet Length Min', ' Fwd Packet Length Mean',\n",
       "       ' Fwd Packet Length Std', 'Bwd Packet Length Max',\n",
       "       ' Bwd Packet Length Min', ' Bwd Packet Length Mean',\n",
       "       ' Bwd Packet Length Std', 'Flow Bytes/s', ' Flow Packets/s',\n",
       "       ' Flow IAT Mean', ' Flow IAT Std', ' Flow IAT Max', ' Flow IAT Min',\n",
       "       'Fwd IAT Total', ' Fwd IAT Mean', ' Fwd IAT Std', ' Fwd IAT Max',\n",
       "       ' Fwd IAT Min', 'Bwd IAT Total', ' Bwd IAT Mean', ' Bwd IAT Std',\n",
       "       ' Bwd IAT Max', ' Bwd IAT Min', 'Fwd PSH Flags', ' Bwd PSH Flags',\n",
       "       ' Fwd URG Flags', ' Bwd URG Flags', ' Fwd Header Length',\n",
       "       ' Bwd Header Length', 'Fwd Packets/s', ' Bwd Packets/s',\n",
       "       ' Min Packet Length', ' Max Packet Length', ' Packet Length Mean',\n",
       "       ' Packet Length Std', ' Packet Length Variance', 'FIN Flag Count',\n",
       "       ' SYN Flag Count', ' RST Flag Count', ' PSH Flag Count',\n",
       "       ' ACK Flag Count', ' URG Flag Count', ' CWE Flag Count',\n",
       "       ' ECE Flag Count', ' Down/Up Ratio', ' Average Packet Size',\n",
       "       ' Avg Fwd Segment Size', ' Avg Bwd Segment Size',\n",
       "       ' Fwd Header Length.1', 'Fwd Avg Bytes/Bulk', ' Fwd Avg Packets/Bulk',\n",
       "       ' Fwd Avg Bulk Rate', ' Bwd Avg Bytes/Bulk', ' Bwd Avg Packets/Bulk',\n",
       "       'Bwd Avg Bulk Rate', 'Subflow Fwd Packets', ' Subflow Fwd Bytes',\n",
       "       ' Subflow Bwd Packets', ' Subflow Bwd Bytes', 'Init_Win_bytes_forward',\n",
       "       ' Init_Win_bytes_backward', ' act_data_pkt_fwd',\n",
       "       ' min_seg_size_forward', 'Active Mean', ' Active Std', ' Active Max',\n",
       "       ' Active Min', 'Idle Mean', ' Idle Std', ' Idle Max', ' Idle Min',\n",
       "       ' Label'],\n",
       "      dtype='object')"
      ]
     },
     "execution_count": 7,
     "metadata": {},
     "output_type": "execute_result"
    }
   ],
   "source": [
    "df.columns"
   ]
  },
  {
   "cell_type": "code",
   "execution_count": 8,
   "metadata": {},
   "outputs": [
    {
     "data": {
      "text/plain": [
       "(2830743, 79)"
      ]
     },
     "execution_count": 8,
     "metadata": {},
     "output_type": "execute_result"
    }
   ],
   "source": [
    "# df = pd.read_csv(all_files[:4])\n",
    "df.shape"
   ]
  },
  {
   "cell_type": "code",
   "execution_count": 9,
   "metadata": {},
   "outputs": [],
   "source": [
    "# m = df.loc[df[' Flow Packets/s'] != np.inf,' Flow Packets/s'].max()\n",
    "# df[' Flow Packets/s'].replace(np.inf,m,inplace=True)\n",
    "# m = df.loc[df['Flow Bytes/s'] != np.inf,'Flow Bytes/s'].max()\n",
    "# df['Flow Bytes/s'].replace(np.inf,m,inplace=True)"
   ]
  },
  {
   "cell_type": "code",
   "execution_count": 10,
   "metadata": {},
   "outputs": [
    {
     "data": {
      "text/plain": [
       "1358"
      ]
     },
     "execution_count": 10,
     "metadata": {},
     "output_type": "execute_result"
    }
   ],
   "source": [
    "df.isna().sum().sum()"
   ]
  },
  {
   "cell_type": "code",
   "execution_count": 11,
   "metadata": {},
   "outputs": [],
   "source": [
    "df.dropna(inplace = True)"
   ]
  },
  {
   "cell_type": "code",
   "execution_count": 12,
   "metadata": {},
   "outputs": [],
   "source": [
    "# from sklearn.model_selection import StratifiedKFold\n",
    "# df['folds'] = 0\n",
    "# skf = StratifiedKFold(n_splits=10, random_state=42, shuffle=True)\n",
    "# for i, (_, test_index) in enumerate(skf.split(df[[' Destination Port']], df[' Label'])):\n",
    "#     df.iloc[test_index, -1] = i"
   ]
  },
  {
   "cell_type": "code",
   "execution_count": 13,
   "metadata": {},
   "outputs": [],
   "source": [
    "# df = pd.get_dummies(df)"
   ]
  },
  {
   "cell_type": "code",
   "execution_count": 14,
   "metadata": {},
   "outputs": [],
   "source": [
    "col = [' Destination Port', ' Flow Duration', ' Total Fwd Packets',\n",
    "       ' Total Backward Packets', 'Total Length of Fwd Packets',\n",
    "       ' Total Length of Bwd Packets', ' Fwd Packet Length Max',\n",
    "       ' Fwd Packet Length Min', ' Fwd Packet Length Mean',\n",
    "       ' Fwd Packet Length Std', 'Bwd Packet Length Max',\n",
    "       ' Bwd Packet Length Min', ' Bwd Packet Length Mean',\n",
    "       ' Bwd Packet Length Std', 'Flow Bytes/s', ' Flow Packets/s',\n",
    "       ' Flow IAT Mean', ' Flow IAT Std', ' Flow IAT Max', ' Flow IAT Min',\n",
    "       'Fwd IAT Total', ' Fwd IAT Mean', ' Fwd IAT Std', ' Fwd IAT Max',\n",
    "       ' Fwd IAT Min', 'Bwd IAT Total', ' Bwd IAT Mean', ' Bwd IAT Std',\n",
    "       ' Bwd IAT Max', ' Bwd IAT Min', 'Fwd PSH Flags', ' Bwd PSH Flags',\n",
    "       ' Fwd URG Flags', ' Bwd URG Flags', ' Fwd Header Length',\n",
    "       ' Bwd Header Length', 'Fwd Packets/s', ' Bwd Packets/s',\n",
    "       ' Min Packet Length', ' Max Packet Length', ' Packet Length Mean',\n",
    "       ' Packet Length Std', ' Packet Length Variance', 'FIN Flag Count',\n",
    "       ' SYN Flag Count', ' RST Flag Count', ' PSH Flag Count',\n",
    "       ' ACK Flag Count', ' URG Flag Count', ' CWE Flag Count',\n",
    "       ' ECE Flag Count', ' Down/Up Ratio', ' Average Packet Size',\n",
    "       ' Avg Fwd Segment Size', ' Avg Bwd Segment Size',\n",
    "       ' Fwd Header Length.1', 'Fwd Avg Bytes/Bulk', ' Fwd Avg Packets/Bulk',\n",
    "       ' Fwd Avg Bulk Rate', ' Bwd Avg Bytes/Bulk', ' Bwd Avg Packets/Bulk',\n",
    "       'Bwd Avg Bulk Rate', 'Subflow Fwd Packets', ' Subflow Fwd Bytes',\n",
    "       ' Subflow Bwd Packets', ' Subflow Bwd Bytes', 'Init_Win_bytes_forward',\n",
    "       ' Init_Win_bytes_backward', ' act_data_pkt_fwd',\n",
    "       ' min_seg_size_forward', 'Active Mean', ' Active Std', ' Active Max',\n",
    "       ' Active Min', 'Idle Mean', ' Idle Std', ' Idle Max', ' Idle Min']"
   ]
  },
  {
   "cell_type": "code",
   "execution_count": 15,
   "metadata": {},
   "outputs": [],
   "source": [
    "# train_df= df[df['folds'] != 5].copy()\n",
    "# valid_df = df[df['folds'] == 5].copy()"
   ]
  },
  {
   "cell_type": "code",
   "execution_count": 16,
   "metadata": {},
   "outputs": [],
   "source": [
    "def clean_dataset(df):\n",
    "    assert isinstance(df, pd.DataFrame), \"df needs to be a pd.DataFrame\"\n",
    "    df.dropna(inplace=True)\n",
    "    indices_to_keep = ~df.isin([np.nan, np.inf, -np.inf]).any(1)\n",
    "    return df[indices_to_keep].astype(np.float64)"
   ]
  },
  {
   "cell_type": "code",
   "execution_count": 17,
   "metadata": {},
   "outputs": [],
   "source": [
    "anomaly_cols = ['DDoS', 'PortScan', 'Bot', 'Infiltration',\n",
    "       'Web Attack � Brute Force', 'Web Attack � XSS',\n",
    "       'Web Attack � Sql Injection', 'FTP-Patator', 'SSH-Patator',\n",
    "       'DoS slowloris', 'DoS Slowhttptest', 'DoS Hulk', 'DoS GoldenEye',\n",
    "       'Heartbleed']\n",
    "\n",
    "anomaly_cols_map = {col:-1 for col in anomaly_cols}\n",
    "anomaly_cols_map['BENIGN'] = 1\n",
    "\n",
    "df[' Label'] = df[' Label'].map(anomaly_cols_map)"
   ]
  },
  {
   "cell_type": "code",
   "execution_count": 18,
   "metadata": {},
   "outputs": [],
   "source": [
    "df = clean_dataset(df)"
   ]
  },
  {
   "cell_type": "code",
   "execution_count": 25,
   "metadata": {},
   "outputs": [],
   "source": [
    "X, y = df.drop(' Label', axis=1), df[' Label']"
   ]
  },
  {
   "cell_type": "code",
   "execution_count": null,
   "metadata": {},
   "outputs": [],
   "source": []
  },
  {
   "cell_type": "code",
   "execution_count": 20,
   "metadata": {},
   "outputs": [
    {
     "name": "stdout",
     "output_type": "stream",
     "text": [
      "CPU times: user 2min 35s, sys: 2min 53s, total: 5min 29s\n",
      "Wall time: 36.8 s\n"
     ]
    },
    {
     "data": {
      "text/plain": [
       "IsolationForest(max_samples=10000, n_jobs=-1,\n",
       "                random_state=RandomState(MT19937) at 0x7F8E5C059240)"
      ]
     },
     "execution_count": 20,
     "metadata": {},
     "output_type": "execute_result"
    }
   ],
   "source": [
    "%%time\n",
    "\n",
    "\n",
    "from sklearn.ensemble import IsolationForest\n",
    "\n",
    "rng = np.random.RandomState(42)\n",
    "\n",
    "model = IsolationForest(max_samples=10000, random_state=rng, n_jobs=-1)\n",
    "model.fit(X)"
   ]
  },
  {
   "cell_type": "code",
   "execution_count": 21,
   "metadata": {},
   "outputs": [
    {
     "name": "stdout",
     "output_type": "stream",
     "text": [
      "[1 1 1 ... 1 1 1]\n",
      "(2827876,)\n",
      "percentage of Legit: 98.3108877475533\n",
      "percentage of Anomaly: 1.6891122524467128\n"
     ]
    }
   ],
   "source": [
    "y_pred = model.predict(X)\n",
    "print(y_pred)\n",
    "print(y_pred.shape)\n",
    "\n",
    "print(\"percentage of Legit:\", (list(y_pred).count(1)/y_pred.shape[0])*100)\n",
    "print(\"percentage of Anomaly:\",(list(y_pred).count(-1)/y_pred.shape[0])*100)"
   ]
  },
  {
   "cell_type": "code",
   "execution_count": 26,
   "metadata": {},
   "outputs": [
    {
     "data": {
      "text/plain": [
       "array([-1.,  1.])"
      ]
     },
     "execution_count": 26,
     "metadata": {},
     "output_type": "execute_result"
    }
   ],
   "source": [
    "np.unique(y)"
   ]
  },
  {
   "cell_type": "code",
   "execution_count": 84,
   "metadata": {},
   "outputs": [
    {
     "data": {
      "text/plain": [
       "array([[   8556,  548000],\n",
       "       [  39210, 2232110]])"
      ]
     },
     "execution_count": 84,
     "metadata": {},
     "output_type": "execute_result"
    }
   ],
   "source": [
    "from sklearn.metrics import confusion_matrix\n",
    "cf_matrix = confusion_matrix(y, y_pred)\n",
    "tn, fp, fn, tp = cf_matrix.ravel()\n",
    "cf_matrix"
   ]
  },
  {
   "cell_type": "code",
   "execution_count": 81,
   "metadata": {},
   "outputs": [
    {
     "name": "stdout",
     "output_type": "stream",
     "text": [
      "Recall 1.0 \n",
      "Precision 0.5\n"
     ]
    }
   ],
   "source": [
    "recall = tp/(tp+fn)\n",
    "precision = tp/(tp+fp)\n",
    "print(\"Recall\", recall, \"\\nPrecision\", precision)"
   ]
  },
  {
   "cell_type": "code",
   "execution_count": 82,
   "metadata": {},
   "outputs": [
    {
     "name": "stdout",
     "output_type": "stream",
     "text": [
      "F1 Score 0.6666666666666666\n"
     ]
    }
   ],
   "source": [
    "f1 = 2 * (precision*recall)/(precision+recall)\n",
    "print(\"F1 Score\", f1)"
   ]
  },
  {
   "cell_type": "code",
   "execution_count": 75,
   "metadata": {},
   "outputs": [],
   "source": [
    "\n",
    "\n",
    "# print(classification_report(y, y_pred))"
   ]
  },
  {
   "cell_type": "code",
   "execution_count": 69,
   "metadata": {},
   "outputs": [
    {
     "data": {
      "text/plain": [
       "0.9827369106951024"
      ]
     },
     "execution_count": 69,
     "metadata": {},
     "output_type": "execute_result"
    }
   ],
   "source": [
    "recall_score(y, y_pred)"
   ]
  },
  {
   "cell_type": "code",
   "execution_count": 30,
   "metadata": {},
   "outputs": [
    {
     "data": {
      "text/plain": [
       " 1.0    0.803189\n",
       "-1.0    0.196811\n",
       "Name:  Label, dtype: float64"
      ]
     },
     "execution_count": 30,
     "metadata": {},
     "output_type": "execute_result"
    }
   ],
   "source": [
    "y.value_counts(normalize=True)"
   ]
  },
  {
   "cell_type": "code",
   "execution_count": 20,
   "metadata": {},
   "outputs": [],
   "source": [
    "from sklearn.preprocessing import MinMaxScaler"
   ]
  },
  {
   "cell_type": "code",
   "execution_count": 21,
   "metadata": {},
   "outputs": [],
   "source": [
    "# scaler = MinMaxScaler()\n",
    "# X_scaled = scaler.fit_transform(X)"
   ]
  },
  {
   "cell_type": "code",
   "execution_count": 22,
   "metadata": {},
   "outputs": [],
   "source": [
    "# X_train_all, X_test, y_train_all, y_test = train_test_split(X_scaled, y, test_size=0.2, random_state=17)\n",
    "X_train_all, X_test, y_train_all, y_test = train_test_split(X, y, test_size=0.2, random_state=17)"
   ]
  },
  {
   "cell_type": "code",
   "execution_count": 23,
   "metadata": {},
   "outputs": [],
   "source": [
    "X_train_all_clean, y_train_all_clean = X_train_all[y_train_all!=1], y_train_all[y_train_all!=1]"
   ]
  },
  {
   "cell_type": "code",
   "execution_count": 24,
   "metadata": {},
   "outputs": [],
   "source": [
    "# X_train_clean, X_val_clean, y_train_clean, y_val_clean = train_test_split(\n",
    "#     X_train_all_clean, y_train_all_clean, test_size=0.2, random_state=17)"
   ]
  },
  {
   "cell_type": "code",
   "execution_count": 23,
   "metadata": {},
   "outputs": [],
   "source": [
    "# a = np.unique(y_train_all, return_counts=True)\n",
    "# a[0], a[1]/a[1].sum()"
   ]
  },
  {
   "cell_type": "code",
   "execution_count": 26,
   "metadata": {},
   "outputs": [],
   "source": [
    "# from sklearn.preprocessing import MinMaxScaler\n",
    "# scaler = MinMaxScaler()\n",
    "# train_df[col] = scaler.fit_transform(train_df[col])\n",
    "# valid_df[col] = scaler.transform(valid_df[col])"
   ]
  },
  {
   "cell_type": "code",
   "execution_count": 24,
   "metadata": {},
   "outputs": [],
   "source": [
    "from sklearn.linear_model import LogisticRegression\n",
    "from sklearn.metrics import (\n",
    "    accuracy_score,\n",
    "    classification_report,\n",
    "    precision_recall_curve,\n",
    "    roc_curve,\n",
    "    confusion_matrix,\n",
    "    ConfusionMatrixDisplay\n",
    ")"
   ]
  },
  {
   "cell_type": "code",
   "execution_count": 25,
   "metadata": {},
   "outputs": [],
   "source": [
    "def optimal_threshold(pred_proba, y_test):\n",
    "    # Youden’s J statistic - при каком значении threshold график достигает \n",
    "    # ближайшей точке к (0, 1) на ROC curve\n",
    "    fpr, tpr, thresholds = roc_curve(y_test, pred_proba)\n",
    "    J = tpr - fpr\n",
    "    ix = np.argmax(J)\n",
    "    print(f'Best threshold by Youden’s J statistic: {round(thresholds[ix], 3)}')\n",
    "\n",
    "    # Определение threshold при помощи максимизации F-Score\n",
    "    pr, rec, thresholds = precision_recall_curve(y_test, pred_proba)\n",
    "    fscore = (2 * pr * rec) / (pr + rec)\n",
    "    ix = np.argmax(fscore)\n",
    "    print(f'Best threshold by optimising F-score: {round(thresholds[ix], 3)}, F-Score={round(fscore[ix], 3)}')\n",
    "    \n",
    "def custom_classification_report(y_test, pred_proba, threshold):\n",
    "    print(f'threshold:{threshold}')\n",
    "    pred_proba = np.array(pred_proba)\n",
    "    pred[pred_proba>=threshold] = 1\n",
    "    pred[pred_proba<threshold] = 0\n",
    "    print(classification_report(y_test, pred))\n",
    "    \n",
    "def print_corves(pred_proba, y_test):\n",
    "    fig, (ax1, ax2) = plt.subplots(1, 2, figsize=(14,6))\n",
    "    fig.suptitle('Metrics')\n",
    "\n",
    "    fpr, tpr, thresholds = roc_curve(y_test, pred_proba)\n",
    "    ax1.plot([0,1], [0,1], linestyle='--', label='No Skill')\n",
    "    ax1.plot(fpr, tpr, marker='.', label='Logistic')\n",
    "    ax1.set_xlabel('False Positive Rate')\n",
    "    ax1.set_ylabel('True Positive Rate')\n",
    "    ax1.legend()\n",
    "    ax1.set_title('ROC curve')\n",
    "\n",
    "    pr, rec, thresholds = precision_recall_curve(y_test, pred_proba)\n",
    "    ax2.plot(thresholds, pr[:-1], c ='r', label ='PRECISION')\n",
    "    ax2.plot(thresholds, rec[:-1], c ='b', label ='RECALL')\n",
    "    ax2.grid()\n",
    "    ax2.legend()\n",
    "    ax2.set_title('Precision-Recall Curve')\n",
    "    plt.show();\n",
    "    \n",
    "def plot_confusion_matrix(y_test, y_pred):\n",
    "    cm = confusion_matrix(y_test, y_pred)\n",
    "    fig, ax = plt.subplots(figsize=(6, 6))\n",
    "    ConfusionMatrixDisplay(confusion_matrix=cm, display_labels=[0, 1]).plot(ax=ax)\n",
    "    plt.show();"
   ]
  },
  {
   "cell_type": "code",
   "execution_count": null,
   "metadata": {},
   "outputs": [],
   "source": []
  },
  {
   "cell_type": "code",
   "execution_count": 26,
   "metadata": {},
   "outputs": [],
   "source": [
    "import time\n",
    "\n",
    "from sklearn import svm\n",
    "from sklearn.datasets import make_moons, make_blobs\n",
    "from sklearn.covariance import EllipticEnvelope\n",
    "from sklearn.ensemble import IsolationForest\n",
    "from sklearn.neighbors import LocalOutlierFactor\n",
    "from sklearn.linear_model import SGDOneClassSVM\n",
    "from sklearn.kernel_approximation import Nystroem\n",
    "from sklearn.pipeline import make_pipeline"
   ]
  },
  {
   "cell_type": "code",
   "execution_count": null,
   "metadata": {},
   "outputs": [],
   "source": []
  },
  {
   "cell_type": "code",
   "execution_count": 31,
   "metadata": {},
   "outputs": [],
   "source": [
    "outliers_fraction = 0.19"
   ]
  },
  {
   "cell_type": "code",
   "execution_count": 32,
   "metadata": {},
   "outputs": [],
   "source": [
    "anomaly_algorithms = [\n",
    "    (\"Robust covariance\", EllipticEnvelope(contamination=outliers_fraction)),\n",
    "    (\"One-Class SVM\", svm.OneClassSVM(nu=outliers_fraction, kernel=\"rbf\", gamma=0.1)),\n",
    "    (\n",
    "        \"One-Class SVM (SGD)\",\n",
    "        make_pipeline(\n",
    "            Nystroem(gamma=0.1, random_state=42, n_components=150),\n",
    "            SGDOneClassSVM(\n",
    "                nu=outliers_fraction,\n",
    "                shuffle=True,\n",
    "                fit_intercept=True,\n",
    "                random_state=42,\n",
    "                tol=1e-6,\n",
    "            ),\n",
    "        ),\n",
    "    ),\n",
    "    (\n",
    "        \"Isolation Forest\",\n",
    "        IsolationForest(contamination=outliers_fraction, random_state=42),\n",
    "    ),\n",
    "    (\n",
    "        \"Local Outlier Factor\",\n",
    "        LocalOutlierFactor(n_neighbors=35, contamination=outliers_fraction, novelty=True),\n",
    "    ),\n",
    "]"
   ]
  },
  {
   "cell_type": "code",
   "execution_count": 41,
   "metadata": {},
   "outputs": [
    {
     "name": "stdout",
     "output_type": "stream",
     "text": [
      "CPU times: user 51.3 s, sys: 42.5 s, total: 1min 33s\n",
      "Wall time: 1min 33s\n"
     ]
    }
   ],
   "source": [
    "%%time\n",
    "\n",
    "iso = IsolationForest(max_samples=10000, random_state=42, n)\n",
    "# lof = LocalOutlierFactor(n_neighbors=35, contamination=outliers_fraction, novelty=True)\n",
    "# iso.fit(X_train_clean)\n",
    "\n",
    "y_pred_ = iso.fit(X_train_all)"
   ]
  },
  {
   "cell_type": "code",
   "execution_count": 42,
   "metadata": {},
   "outputs": [],
   "source": [
    "y_pred_ = iso.predict(X_train_all)"
   ]
  },
  {
   "cell_type": "code",
   "execution_count": 35,
   "metadata": {},
   "outputs": [
    {
     "data": {
      "text/plain": [
       "(array([-1,  1]), array([0.19096284, 0.80903716]))"
      ]
     },
     "execution_count": 35,
     "metadata": {},
     "output_type": "execute_result"
    }
   ],
   "source": [
    "a = np.unique(y_pred_, return_counts=True)\n",
    "a[0], a[1]/a[1].sum()"
   ]
  },
  {
   "cell_type": "code",
   "execution_count": 36,
   "metadata": {},
   "outputs": [],
   "source": [
    "# y_pred = y_pred_.copy()\n",
    "# y_pred[y_pred_== 1] = 0\n",
    "# y_pred[y_pred_==-1] = 1"
   ]
  },
  {
   "cell_type": "code",
   "execution_count": 43,
   "metadata": {},
   "outputs": [
    {
     "name": "stdout",
     "output_type": "stream",
     "text": [
      "              precision    recall  f1-score   support\n",
      "\n",
      "        -1.0       0.21      0.02      0.04    444919\n",
      "         1.0       0.80      0.98      0.88   1817381\n",
      "\n",
      "    accuracy                           0.79   2262300\n",
      "   macro avg       0.51      0.50      0.46   2262300\n",
      "weighted avg       0.69      0.79      0.72   2262300\n",
      "\n"
     ]
    }
   ],
   "source": [
    "print(classification_report(y_train_all, y_pred_))"
   ]
  },
  {
   "cell_type": "code",
   "execution_count": 37,
   "metadata": {
    "scrolled": true
   },
   "outputs": [
    {
     "name": "stdout",
     "output_type": "stream",
     "text": [
      "              precision    recall  f1-score   support\n",
      "\n",
      "        -1.0       0.47      0.45      0.46    111637\n",
      "         1.0       0.87      0.87      0.87    453939\n",
      "\n",
      "    accuracy                           0.79    565576\n",
      "   macro avg       0.67      0.66      0.67    565576\n",
      "weighted avg       0.79      0.79      0.79    565576\n",
      "\n"
     ]
    }
   ],
   "source": [
    "print(classification_report(y_test, y_pred_))"
   ]
  },
  {
   "cell_type": "code",
   "execution_count": null,
   "metadata": {},
   "outputs": [
    {
     "name": "stderr",
     "output_type": "stream",
     "text": [
      "/home/churilov/env/lib/python3.8/site-packages/sklearn/covariance/_robust_covariance.py:738: UserWarning: The covariance matrix associated to your dataset is not full rank\n",
      "  warnings.warn(\n",
      "/home/churilov/env/lib/python3.8/site-packages/sklearn/covariance/_robust_covariance.py:738: UserWarning: The covariance matrix associated to your dataset is not full rank\n",
      "  warnings.warn(\n"
     ]
    },
    {
     "name": "stdout",
     "output_type": "stream",
     "text": [
      "\n",
      "\n",
      " Robust covariance 180.62s\n",
      "              precision    recall  f1-score   support\n",
      "\n",
      "        -1.0       0.12      0.01      0.02    111637\n",
      "         1.0       0.80      0.98      0.88    453939\n",
      "\n",
      "    accuracy                           0.79    565576\n",
      "   macro avg       0.46      0.50      0.45    565576\n",
      "weighted avg       0.67      0.79      0.71    565576\n",
      "\n"
     ]
    }
   ],
   "source": [
    "for name, algorithm in anomaly_algorithms:\n",
    "    t0 = time.time()\n",
    "    algorithm.fit(X_train_clean)\n",
    "    t1 = time.time()\n",
    "    \n",
    "    algorithm.fit(X_train_all_clean)\n",
    "    y_pred_ = algorithm.predict(X_test)\n",
    "    # y_pred = y_pred_.copy()\n",
    "    # y_pred[y_pred_== 1] = 0\n",
    "    # y_pred[y_pred_==-1] = 1\n",
    "        \n",
    "    print('\\n\\n', name, (\"%.2fs\" % (t1 - t0)).lstrip(\"0\"))\n",
    "    print(classification_report(y_test, y_pred_))"
   ]
  },
  {
   "cell_type": "code",
   "execution_count": null,
   "metadata": {},
   "outputs": [],
   "source": []
  },
  {
   "cell_type": "code",
   "execution_count": null,
   "metadata": {},
   "outputs": [],
   "source": []
  },
  {
   "cell_type": "code",
   "execution_count": null,
   "metadata": {},
   "outputs": [],
   "source": []
  },
  {
   "cell_type": "code",
   "execution_count": 75,
   "metadata": {
    "scrolled": true
   },
   "outputs": [],
   "source": [
    "logreg = LogisticRegression(solver='liblinear').fit(X_train, y_train)"
   ]
  },
  {
   "cell_type": "code",
   "execution_count": 76,
   "metadata": {},
   "outputs": [
    {
     "name": "stdout",
     "output_type": "stream",
     "text": [
      "logreg:\n",
      "               precision    recall  f1-score   support\n",
      "\n",
      "         0.0       0.99      1.00      1.00     37803\n",
      "         1.0       0.86      0.33      0.48       380\n",
      "\n",
      "    accuracy                           0.99     38183\n",
      "   macro avg       0.93      0.67      0.74     38183\n",
      "weighted avg       0.99      0.99      0.99     38183\n",
      "\n"
     ]
    }
   ],
   "source": [
    "pred = logreg.predict(X_test)\n",
    "print('logreg:\\n', classification_report(y_test, pred))"
   ]
  },
  {
   "cell_type": "code",
   "execution_count": 78,
   "metadata": {
    "scrolled": false
   },
   "outputs": [
    {
     "data": {
      "image/png": "[encoded data removed]",
      "text/plain": [
       "<Figure size 1008x432 with 2 Axes>"
      ]
     },
     "metadata": {
      "needs_background": "light"
     },
     "output_type": "display_data"
    }
   ],
   "source": [
    "pred_proba = logreg.predict_proba(X_test)\n",
    "# keep probabilities for the positive outcome only\n",
    "pred_proba = pred_proba[:, 1]\n",
    "print_corves(pred_proba, y_test)"
   ]
  },
  {
   "cell_type": "code",
   "execution_count": 83,
   "metadata": {},
   "outputs": [
    {
     "name": "stdout",
     "output_type": "stream",
     "text": [
      "Best threshold by Youden’s J statistic: 0.009\n",
      "Best threshold by optimising F-score: 0.373, F-Score=0.702\n"
     ]
    }
   ],
   "source": [
    "model = logreg\n",
    "pred_proba = model.predict_proba(X_test)\n",
    "pred_proba = pred_proba[:, 1]\n",
    "\n",
    "optimal_threshold(pred_proba, y_test)"
   ]
  },
  {
   "cell_type": "code",
   "execution_count": 84,
   "metadata": {},
   "outputs": [
    {
     "name": "stdout",
     "output_type": "stream",
     "text": [
      "logreg (threshold=0.009):\n",
      "               precision    recall  f1-score   support\n",
      "\n",
      "         0.0       1.00      0.89      0.94     37803\n",
      "         1.0       0.08      0.98      0.16       380\n",
      "\n",
      "    accuracy                           0.89     38183\n",
      "   macro avg       0.54      0.94      0.55     38183\n",
      "weighted avg       0.99      0.89      0.94     38183\n",
      "\n"
     ]
    }
   ],
   "source": [
    "threshold = 0.009\n",
    "\n",
    "pred_proba[pred_proba>=threshold] = 1\n",
    "pred_proba[pred_proba< threshold] = 0\n",
    "\n",
    "print(f'logreg (threshold={threshold}):\\n', classification_report(y_test, pred_proba))"
   ]
  },
  {
   "cell_type": "code",
   "execution_count": 87,
   "metadata": {},
   "outputs": [
    {
     "data": {
      "image/png": "[encoded data removed]",
      "text/plain": [
       "<Figure size 432x432 with 2 Axes>"
      ]
     },
     "metadata": {
      "needs_background": "light"
     },
     "output_type": "display_data"
    }
   ],
   "source": [
    "plot_confusion_matrix(y_test, pred_proba)"
   ]
  },
  {
   "cell_type": "code",
   "execution_count": null,
   "metadata": {},
   "outputs": [],
   "source": []
  },
  {
   "cell_type": "code",
   "execution_count": null,
   "metadata": {},
   "outputs": [],
   "source": []
  },
  {
   "cell_type": "code",
   "execution_count": null,
   "metadata": {},
   "outputs": [],
   "source": []
  },
  {
   "cell_type": "code",
   "execution_count": null,
   "metadata": {},
   "outputs": [],
   "source": []
  },
  {
   "cell_type": "code",
   "execution_count": null,
   "metadata": {},
   "outputs": [],
   "source": []
  }
 ],
 "metadata": {
  "kernelspec": {
   "display_name": "Python 3 (ipykernel)",
   "language": "python",
   "name": "python3"
  },
  "language_info": {
   "codemirror_mode": {
    "name": "ipython",
    "version": 3
   },
   "file_extension": ".py",
   "mimetype": "text/x-python",
   "name": "python",
   "nbconvert_exporter": "python",
   "pygments_lexer": "ipython3",
   "version": "3.8.5"
  }
 },
 "nbformat": 4,
 "nbformat_minor": 4
}
